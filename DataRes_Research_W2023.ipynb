{
  "cells": [
    {
      "attachments": {},
      "cell_type": "markdown",
      "metadata": {},
      "source": [
        "# Reddit Social Network Analysis\n",
        "#### DataRes Research - Winter 2023"
      ]
    },
    {
      "cell_type": "markdown",
      "metadata": {
        "id": "i3QEigIWKR5M"
      },
      "source": [
        "## Import libraries, packages, env"
      ]
    },
    {
      "cell_type": "code",
      "execution_count": 1,
      "metadata": {
        "colab": {
          "base_uri": "https://localhost:8080/"
        },
        "id": "hIh8YnFCw4e6",
        "outputId": "5bfc535b-67dc-4089-d6be-4c81429a4e4f"
      },
      "outputs": [],
      "source": [
        "# !pip3 install colab-env\n",
        "# !pip3 install praw\n",
        "# !pip3 install torch\n",
        "# !pip3 install pyg-lib torch-scatter torch-sparse torch-cluster torch-spline-conv torch-geometric -f https://data.pyg.org/whl/torch-1.13.0+cu117.html"
      ]
    },
    {
      "cell_type": "code",
      "execution_count": 2,
      "metadata": {
        "id": "lbpEZ34CUxzP"
      },
      "outputs": [],
      "source": [
        "import warnings\n",
        "warnings.filterwarnings(\"ignore\")"
      ]
    },
    {
      "cell_type": "code",
      "execution_count": 3,
      "metadata": {
        "id": "OTf4OUTbcmBZ"
      },
      "outputs": [],
      "source": [
        "CUDA = 12.0"
      ]
    },
    {
      "cell_type": "code",
      "execution_count": 4,
      "metadata": {
        "id": "nPHHhAkVV2G2"
      },
      "outputs": [],
      "source": [
        "import argparse\n",
        "import os, sys \n",
        "import os.path as osp\n",
        "from typing import Callable, List, Optional\n",
        "\n",
        "# Reddit API\n",
        "import praw\n",
        "\n",
        "# General\n",
        "from matplotlib import pyplot as plt\n",
        "import pandas as pd\n",
        "import numpy as np\n",
        "from datetime import datetime, timedelta\n",
        "import copy\n",
        "\n",
        "import scipy.sparse as sp\n",
        "\n",
        "from sklearn.metrics import accuracy_score\n",
        "\n",
        "from tqdm import tqdm"
      ]
    },
    {
      "cell_type": "code",
      "execution_count": 5,
      "metadata": {
        "id": "yPnhszGCZnc5"
      },
      "outputs": [],
      "source": [
        "import torch\n",
        "import torch.nn as nn\n",
        "import torch.optim as optim\n",
        "import torch.nn.functional as F\n",
        "\n",
        "from torch.nn import (\n",
        "    ModuleList,\n",
        "    Linear,\n",
        ")\n",
        "from torch.nn.functional import dropout, relu\n",
        "\n",
        "from torch_geometric.data import (\n",
        "    Data,\n",
        "    InMemoryDataset,\n",
        "    download_url,\n",
        "    extract_zip,\n",
        "    DataLoader,\n",
        "    NeighborSampler,\n",
        ")\n",
        "from torch_geometric.utils import (\n",
        "    coalesce,\n",
        "    to_networkx,\n",
        "    train_test_split_edges,\n",
        "    add_self_loops, \n",
        "    degree,\n",
        ")\n",
        "from torch_geometric.nn import (\n",
        "    GAT, \n",
        "    GATConv,\n",
        "    SAGEConv,\n",
        "    global_max_pool,\n",
        "    global_mean_pool,\n",
        "    MessagePassing,\n",
        ")\n",
        "\n",
        "import torch_geometric.transforms as T\n",
        "\n",
        "from torch_geometric.logging import init_wandb, log\n",
        "\n",
        "from torch_geometric.loader import NeighborLoader, DataLoader\n",
        "\n",
        "from torch_geometric.datasets import Reddit"
      ]
    },
    {
      "cell_type": "code",
      "execution_count": 6,
      "metadata": {
        "colab": {
          "base_uri": "https://localhost:8080/"
        },
        "id": "6tCGTQ2vrxj8",
        "outputId": "f2d17b36-32a9-410b-d11e-e46f3cbb1d53"
      },
      "outputs": [
        {
          "name": "stdout",
          "output_type": "stream",
          "text": [
            "1.13.1+cu117\n"
          ]
        }
      ],
      "source": [
        "print(torch.__version__)"
      ]
    },
    {
      "cell_type": "code",
      "execution_count": 7,
      "metadata": {
        "id": "uUAZz-eJpT75"
      },
      "outputs": [],
      "source": [
        "device = torch.device('cuda' if torch.cuda.is_available() else 'cpu')\n",
        "\n",
        "path = 'Datasets'\n",
        "\n",
        "dataset = Reddit(path, transform=None)\n",
        "\n",
        "# if not os.path.exists(path):\n",
        "#     dataset = Reddit(path, transform=None)\n",
        "# else:\n",
        "#     # Dataset already exists, so skip creating it\n",
        "#     print('Dataset already exists at', path)\n",
        "#     dataset = torch.load('Datasets/processed/data.pt')"
      ]
    },
    {
      "cell_type": "code",
      "execution_count": 8,
      "metadata": {
        "colab": {
          "base_uri": "https://localhost:8080/"
        },
        "id": "NZ-yonJTo0hT",
        "outputId": "5f49df36-fef1-493b-832c-51bfd61ce853"
      },
      "outputs": [
        {
          "data": {
            "text/plain": [
              "Reddit()"
            ]
          },
          "execution_count": 8,
          "metadata": {},
          "output_type": "execute_result"
        }
      ],
      "source": [
        "dataset"
      ]
    },
    {
      "cell_type": "code",
      "execution_count": 9,
      "metadata": {},
      "outputs": [
        {
          "data": {
            "text/plain": [
              "Data(x=[232965, 602], edge_index=[2, 114615892], y=[232965], train_mask=[232965], val_mask=[232965], test_mask=[232965])"
            ]
          },
          "execution_count": 9,
          "metadata": {},
          "output_type": "execute_result"
        }
      ],
      "source": [
        "dataset[0]"
      ]
    },
    {
      "cell_type": "markdown",
      "metadata": {
        "id": "YdBAZpdPtXWy"
      },
      "source": [
        "# Reddit Dataset EDA"
      ]
    },
    {
      "cell_type": "code",
      "execution_count": 10,
      "metadata": {
        "colab": {
          "base_uri": "https://localhost:8080/"
        },
        "id": "gwN8HH0MtifV",
        "outputId": "22e6b02f-3f70-47b7-d3fd-ca4a0ee3b615"
      },
      "outputs": [
        {
          "data": {
            "text/plain": [
              "Reddit()"
            ]
          },
          "execution_count": 10,
          "metadata": {},
          "output_type": "execute_result"
        }
      ],
      "source": [
        "dataset"
      ]
    },
    {
      "cell_type": "code",
      "execution_count": 11,
      "metadata": {},
      "outputs": [
        {
          "data": {
            "text/plain": [
              "tensor([[ 1.2334,  9.0430, -0.9233,  ..., -0.2579,  0.3112, -0.3772],\n",
              "        [-0.1386, -0.2022,  0.1277,  ...,  0.1563,  0.1048, -0.6534],\n",
              "        [-0.1330, -0.1962, -0.0296,  ...,  0.0358,  0.2864,  0.2744],\n",
              "        ...,\n",
              "        [-0.0614, -0.2022,  0.9698,  ...,  1.1064, -1.4323, -0.2398],\n",
              "        [-0.1606, -0.2022, -0.0892,  ...,  0.7440, -0.5046, -2.2288],\n",
              "        [ 0.0929,  0.2822,  0.1768,  ...,  0.2196,  0.5967,  0.5588]])"
            ]
          },
          "execution_count": 11,
          "metadata": {},
          "output_type": "execute_result"
        }
      ],
      "source": [
        "dataset[0].x"
      ]
    },
    {
      "cell_type": "code",
      "execution_count": 12,
      "metadata": {
        "colab": {
          "base_uri": "https://localhost:8080/"
        },
        "id": "IhiWalNkyWF9",
        "outputId": "f8068f17-afa5-4907-e9bd-a400df120e2d"
      },
      "outputs": [
        {
          "data": {
            "text/plain": [
              "torch.Size([2, 114615892])"
            ]
          },
          "execution_count": 12,
          "metadata": {},
          "output_type": "execute_result"
        }
      ],
      "source": [
        "dataset[0].edge_index.shape"
      ]
    },
    {
      "cell_type": "code",
      "execution_count": 13,
      "metadata": {
        "colab": {
          "base_uri": "https://localhost:8080/"
        },
        "id": "Ux0UGHuOy5Uo",
        "outputId": "0541c9d9-8944-434b-8ce7-3a92c0f79c7b"
      },
      "outputs": [
        {
          "data": {
            "text/plain": [
              "array([[     0,    242],\n",
              "       [     0,    249],\n",
              "       [     0,    524],\n",
              "       ...,\n",
              "       [232964, 231806],\n",
              "       [232964, 232594],\n",
              "       [232964, 232634]])"
            ]
          },
          "execution_count": 13,
          "metadata": {},
          "output_type": "execute_result"
        }
      ],
      "source": [
        "dataset[0].edge_index.t().numpy()"
      ]
    },
    {
      "cell_type": "code",
      "execution_count": 14,
      "metadata": {},
      "outputs": [
        {
          "data": {
            "text/plain": [
              "(114615892, 2)"
            ]
          },
          "execution_count": 14,
          "metadata": {},
          "output_type": "execute_result"
        }
      ],
      "source": [
        "dataset[0].edge_index.t().numpy().shape"
      ]
    },
    {
      "cell_type": "code",
      "execution_count": 15,
      "metadata": {
        "colab": {
          "base_uri": "https://localhost:8080/"
        },
        "id": "vcozlaRIRdH-",
        "outputId": "5a65f02e-21e0-4950-cbb3-d1d413b48d0a"
      },
      "outputs": [
        {
          "name": "stdout",
          "output_type": "stream",
          "text": [
            "Number of nodes: 232965\n",
            "Number of edges: 114615892\n"
          ]
        }
      ],
      "source": [
        "# Get the number of nodes and edges in the dataset\n",
        "num_nodes = dataset[0].num_nodes\n",
        "num_edges = dataset[0].num_edges\n",
        "\n",
        "# Print some information about the dataset\n",
        "print(\"Number of nodes:\", num_nodes)\n",
        "print(\"Number of edges:\", num_edges)\n",
        "\n",
        "# # Get the node features as a numpy array\n",
        "node_features = dataset[0].x.numpy()\n",
        "\n",
        "# # Plot a histogram of the node features\n",
        "# plt.hist(node_features.flatten(), bins='auto')\n",
        "# plt.title(\"Histogram of Node Features\")\n",
        "# plt.xlabel(\"Node Feature Value\")\n",
        "# plt.ylabel(\"Frequency\")\n",
        "# plt.show()\n",
        "# plt.close()\n",
        "\n",
        "del node_features"
      ]
    },
    {
      "cell_type": "code",
      "execution_count": 16,
      "metadata": {
        "colab": {
          "base_uri": "https://localhost:8080/"
        },
        "id": "83_ZX9SaTX9J",
        "outputId": "7c347390-9899-40e5-eae9-ccb4669074da"
      },
      "outputs": [
        {
          "name": "stdout",
          "output_type": "stream",
          "text": [
            "Adjacency matrix sparsity: 0.9978881389258081\n"
          ]
        }
      ],
      "source": [
        "# Compute the sparsity of the adjacency matrix\n",
        "edge_index = dataset[0].edge_index\n",
        "adjacency_matrix = sp.coo_matrix((torch.ones(num_edges), edge_index), shape=(num_nodes, num_nodes))\n",
        "sparsity = 1 - (num_edges / (num_nodes * (num_nodes - 1)))\n",
        "print(\"Adjacency matrix sparsity:\", sparsity)\n",
        "\n",
        "# # Plot the adjacency matrix\n",
        "# plt.spy(adjacency_matrix, markersize=0.1)\n",
        "# plt.title(\"Adjacency Matrix\")\n",
        "# plt.xlabel(\"Node ID\")\n",
        "# plt.ylabel(\"Node ID\")\n",
        "# plt.show()\n",
        "\n",
        "del edge_index, adjacency_matrix, sparsity"
      ]
    },
    {
      "cell_type": "code",
      "execution_count": 17,
      "metadata": {
        "colab": {
          "base_uri": "https://localhost:8080/"
        },
        "id": "TX-T2aRNNWi0",
        "outputId": "99a3f4a2-bfed-4ca6-ed8a-8d37f1423bd4"
      },
      "outputs": [
        {
          "data": {
            "text/plain": [
              "tensor([30, 17, 18,  ...,  3, 13, 13])"
            ]
          },
          "execution_count": 17,
          "metadata": {},
          "output_type": "execute_result"
        }
      ],
      "source": [
        "# Community of graph 0\n",
        "dataset[0].y"
      ]
    },
    {
      "cell_type": "code",
      "execution_count": 18,
      "metadata": {
        "colab": {
          "base_uri": "https://localhost:8080/"
        },
        "id": "03zp11waP0v0",
        "outputId": "3d896ca7-1a40-48b5-8c61-3af63955dc13"
      },
      "outputs": [
        {
          "name": "stdout",
          "output_type": "stream",
          "text": [
            "41\n"
          ]
        },
        {
          "data": {
            "text/plain": [
              "tensor([[ 1.2334,  9.0430, -0.9233,  ..., -1.2256, -0.3788, -1.3944],\n",
              "        [-0.1386, -0.2022,  0.1277,  ...,  0.6615,  0.5723,  0.2782],\n",
              "        [-0.1330, -0.1962, -0.0296,  ..., -0.6425,  1.1302, -1.7275],\n",
              "        ...,\n",
              "        [-0.0614, -0.2022,  0.9698,  ..., -0.7903, -0.6344, -2.5713],\n",
              "        [-0.1606, -0.2022, -0.0892,  ...,  0.0801,  0.7868,  0.2527],\n",
              "        [ 0.0929,  0.2822,  0.1768,  ...,  0.4616, -0.7446,  0.6888]])"
            ]
          },
          "execution_count": 18,
          "metadata": {},
          "output_type": "execute_result"
        }
      ],
      "source": [
        "# Subreddits (one-hot encoded) of graph 0\n",
        "num_subreddits = dataset.num_classes\n",
        "print(num_subreddits)\n",
        "dataset[0].x[:, :num_subreddits]"
      ]
    },
    {
      "attachments": {},
      "cell_type": "markdown",
      "metadata": {},
      "source": [
        "# Node Classification Models"
      ]
    },
    {
      "cell_type": "code",
      "execution_count": 19,
      "metadata": {
        "id": "CZoB7aR5xO9D"
      },
      "outputs": [],
      "source": [
        "# Already send node features/labels to GPU for faster access during sampling:\n",
        "data = dataset[0].to(device, 'x', 'y')\n",
        "\n",
        "kwargs = {'batch_size': 512, 'num_workers': 6, 'persistent_workers': True}\n",
        "train_loader = NeighborLoader(data, input_nodes=data.train_mask,\n",
        "                              num_neighbors=[25, 10], shuffle=True, **kwargs)\n",
        "\n",
        "subgraph_loader = NeighborLoader(copy.copy(data), input_nodes=None,\n",
        "                                 num_neighbors=[-1], shuffle=False, **kwargs)\n",
        "\n",
        "# No need to maintain these features during evaluation:\n",
        "del subgraph_loader.data.x, subgraph_loader.data.y\n",
        "\n",
        "# Add global node index information.\n",
        "subgraph_loader.data.num_nodes = data.num_nodes\n",
        "subgraph_loader.data.n_id = torch.arange(data.num_nodes)"
      ]
    },
    {
      "attachments": {},
      "cell_type": "markdown",
      "metadata": {
        "id": "a2_VYoh2tjtu"
      },
      "source": [
        "## SAGE"
      ]
    },
    {
      "cell_type": "code",
      "execution_count": 20,
      "metadata": {
        "id": "bKcJWgQ2zGxm"
      },
      "outputs": [],
      "source": [
        "class SAGE(torch.nn.Module):\n",
        "    def __init__(self, in_channels, hidden_channels, out_channels):\n",
        "        super().__init__()\n",
        "        self.convs = torch.nn.ModuleList()\n",
        "        self.convs.append(SAGEConv(in_channels, hidden_channels))\n",
        "        self.convs.append(SAGEConv(hidden_channels, out_channels))\n",
        "\n",
        "    def forward(self, x, edge_index):\n",
        "        for i, conv in enumerate(self.convs):\n",
        "            x = conv(x, edge_index)\n",
        "            if i < len(self.convs) - 1:\n",
        "                x = x.relu_()\n",
        "                x = F.dropout(x, p=0.5, training=self.training)\n",
        "        return x\n",
        "\n",
        "    @torch.no_grad()\n",
        "    def inference(self, x_all, subgraph_loader):\n",
        "        pbar = tqdm(total=len(subgraph_loader.dataset) * len(self.convs))\n",
        "        pbar.set_description('Evaluating')\n",
        "\n",
        "        # Compute representations of nodes layer by layer, using *all*\n",
        "        # available edges. This leads to faster computation in contrast to\n",
        "        # immediately computing the final representations of each batch:\n",
        "        for i, conv in enumerate(self.convs):\n",
        "            xs = []\n",
        "            for batch in subgraph_loader:\n",
        "                x = x_all[batch.n_id.to(x_all.device)].to(device)\n",
        "                x = conv(x, batch.edge_index.to(device))\n",
        "                if i < len(self.convs) - 1:\n",
        "                    x = x.relu_()\n",
        "                xs.append(x[:batch.batch_size].cpu())\n",
        "                pbar.update(batch.batch_size)\n",
        "            x_all = torch.cat(xs, dim=0)\n",
        "        pbar.close()\n",
        "        return x_all"
      ]
    },
    {
      "cell_type": "code",
      "execution_count": 21,
      "metadata": {
        "id": "DWi0jtxezH0u"
      },
      "outputs": [],
      "source": [
        "model = SAGE(dataset.num_features, 256, dataset.num_classes).to(device)\n",
        "optimizer = torch.optim.Adam(model.parameters(), lr=0.0001)"
      ]
    },
    {
      "cell_type": "code",
      "execution_count": 22,
      "metadata": {
        "id": "7W2vlr1Aza15"
      },
      "outputs": [],
      "source": [
        "def train(epoch):\n",
        "    model.train()\n",
        "\n",
        "    pbar = tqdm(total=int(len(train_loader.dataset)))\n",
        "    pbar.set_description(f'Epoch {epoch:02d}')\n",
        "\n",
        "    total_loss = total_correct = total_examples = 0\n",
        "    for batch in train_loader:\n",
        "        optimizer.zero_grad()\n",
        "        y = batch.y[:batch.batch_size]\n",
        "        y_hat = model(batch.x, batch.edge_index.to(device))[:batch.batch_size]\n",
        "        loss = F.cross_entropy(y_hat, y)\n",
        "        loss.backward()\n",
        "        optimizer.step()\n",
        "\n",
        "        total_loss += float(loss) * batch.batch_size\n",
        "        total_correct += int((y_hat.argmax(dim=-1) == y).sum())\n",
        "        total_examples += batch.batch_size\n",
        "        pbar.update(batch.batch_size)\n",
        "    pbar.close()\n",
        "\n",
        "    return total_loss / total_examples, total_correct / total_examples"
      ]
    },
    {
      "cell_type": "code",
      "execution_count": 23,
      "metadata": {
        "id": "2Yd_EPzZzfM0"
      },
      "outputs": [],
      "source": [
        "@torch.no_grad()\n",
        "def test():\n",
        "    model.eval()\n",
        "    y_hat = model.inference(data.x, subgraph_loader).argmax(dim=-1)\n",
        "    y = data.y.to(y_hat.device)\n",
        "\n",
        "    accs = []\n",
        "    for mask in [data.train_mask, data.val_mask, data.test_mask]:\n",
        "        accs.append(int((y_hat[mask] == y[mask]).sum()) / int(mask.sum()))\n",
        "    return accs"
      ]
    },
    {
      "cell_type": "code",
      "execution_count": 24,
      "metadata": {
        "colab": {
          "base_uri": "https://localhost:8080/"
        },
        "id": "chYQC2wNzsVS",
        "outputId": "73ecbae5-4820-4d1a-e49c-82b5b0fb2131"
      },
      "outputs": [
        {
          "name": "stderr",
          "output_type": "stream",
          "text": [
            "Epoch 01: 100%|██████████| 153431/153431 [00:05<00:00, 29826.91it/s]\n"
          ]
        },
        {
          "name": "stdout",
          "output_type": "stream",
          "text": [
            "Epoch 01, Loss: 1.7085, Approx. Train: 0.6054\n"
          ]
        },
        {
          "name": "stderr",
          "output_type": "stream",
          "text": [
            "Evaluating: 100%|██████████| 465930/465930 [00:20<00:00, 22740.99it/s]\n"
          ]
        },
        {
          "name": "stdout",
          "output_type": "stream",
          "text": [
            "Epoch: 01, Train: 0.8607, Val: 0.8728, Test: 0.8672\n"
          ]
        },
        {
          "name": "stderr",
          "output_type": "stream",
          "text": [
            "Epoch 02: 100%|██████████| 153431/153431 [00:04<00:00, 35275.86it/s]\n"
          ]
        },
        {
          "name": "stdout",
          "output_type": "stream",
          "text": [
            "Epoch 02, Loss: 0.5583, Approx. Train: 0.8760\n"
          ]
        },
        {
          "name": "stderr",
          "output_type": "stream",
          "text": [
            "Evaluating: 100%|██████████| 465930/465930 [00:20<00:00, 22780.65it/s]\n"
          ]
        },
        {
          "name": "stdout",
          "output_type": "stream",
          "text": [
            "Epoch: 02, Train: 0.9325, Val: 0.9371, Test: 0.9355\n"
          ]
        },
        {
          "name": "stderr",
          "output_type": "stream",
          "text": [
            "Epoch 03: 100%|██████████| 153431/153431 [00:04<00:00, 35705.81it/s]\n"
          ]
        },
        {
          "name": "stdout",
          "output_type": "stream",
          "text": [
            "Epoch 03, Loss: 0.3764, Approx. Train: 0.9152\n"
          ]
        },
        {
          "name": "stderr",
          "output_type": "stream",
          "text": [
            "Evaluating: 100%|██████████| 465930/465930 [00:20<00:00, 22679.30it/s]\n"
          ]
        },
        {
          "name": "stdout",
          "output_type": "stream",
          "text": [
            "Epoch: 03, Train: 0.9430, Val: 0.9476, Test: 0.9451\n"
          ]
        },
        {
          "name": "stderr",
          "output_type": "stream",
          "text": [
            "Epoch 04: 100%|██████████| 153431/153431 [00:04<00:00, 35020.20it/s]\n"
          ]
        },
        {
          "name": "stdout",
          "output_type": "stream",
          "text": [
            "Epoch 04, Loss: 0.3133, Approx. Train: 0.9275\n"
          ]
        },
        {
          "name": "stderr",
          "output_type": "stream",
          "text": [
            "Evaluating: 100%|██████████| 465930/465930 [00:22<00:00, 20743.52it/s]\n"
          ]
        },
        {
          "name": "stdout",
          "output_type": "stream",
          "text": [
            "Epoch: 04, Train: 0.9482, Val: 0.9511, Test: 0.9490\n"
          ]
        },
        {
          "name": "stderr",
          "output_type": "stream",
          "text": [
            "Epoch 05: 100%|██████████| 153431/153431 [00:04<00:00, 34457.14it/s]\n"
          ]
        },
        {
          "name": "stdout",
          "output_type": "stream",
          "text": [
            "Epoch 05, Loss: 0.2789, Approx. Train: 0.9339\n"
          ]
        },
        {
          "name": "stderr",
          "output_type": "stream",
          "text": [
            "Evaluating: 100%|██████████| 465930/465930 [00:20<00:00, 22920.90it/s]\n"
          ]
        },
        {
          "name": "stdout",
          "output_type": "stream",
          "text": [
            "Epoch: 05, Train: 0.9521, Val: 0.9541, Test: 0.9526\n"
          ]
        },
        {
          "name": "stderr",
          "output_type": "stream",
          "text": [
            "Epoch 06: 100%|██████████| 153431/153431 [00:04<00:00, 35205.69it/s]\n"
          ]
        },
        {
          "name": "stdout",
          "output_type": "stream",
          "text": [
            "Epoch 06, Loss: 0.2568, Approx. Train: 0.9373\n"
          ]
        },
        {
          "name": "stderr",
          "output_type": "stream",
          "text": [
            "Evaluating: 100%|██████████| 465930/465930 [00:21<00:00, 22059.94it/s]\n"
          ]
        },
        {
          "name": "stdout",
          "output_type": "stream",
          "text": [
            "Epoch: 06, Train: 0.9543, Val: 0.9558, Test: 0.9542\n"
          ]
        },
        {
          "name": "stderr",
          "output_type": "stream",
          "text": [
            "Epoch 07: 100%|██████████| 153431/153431 [00:04<00:00, 34052.95it/s]\n"
          ]
        },
        {
          "name": "stdout",
          "output_type": "stream",
          "text": [
            "Epoch 07, Loss: 0.2397, Approx. Train: 0.9417\n"
          ]
        },
        {
          "name": "stderr",
          "output_type": "stream",
          "text": [
            "Evaluating: 100%|██████████| 465930/465930 [00:22<00:00, 20441.96it/s]\n"
          ]
        },
        {
          "name": "stdout",
          "output_type": "stream",
          "text": [
            "Epoch: 07, Train: 0.9561, Val: 0.9570, Test: 0.9555\n"
          ]
        },
        {
          "name": "stderr",
          "output_type": "stream",
          "text": [
            "Epoch 08: 100%|██████████| 153431/153431 [00:04<00:00, 35335.88it/s]\n"
          ]
        },
        {
          "name": "stdout",
          "output_type": "stream",
          "text": [
            "Epoch 08, Loss: 0.2259, Approx. Train: 0.9443\n"
          ]
        },
        {
          "name": "stderr",
          "output_type": "stream",
          "text": [
            "Evaluating: 100%|██████████| 465930/465930 [00:23<00:00, 19738.68it/s]\n"
          ]
        },
        {
          "name": "stdout",
          "output_type": "stream",
          "text": [
            "Epoch: 08, Train: 0.9581, Val: 0.9578, Test: 0.9568\n"
          ]
        },
        {
          "name": "stderr",
          "output_type": "stream",
          "text": [
            "Epoch 09: 100%|██████████| 153431/153431 [00:04<00:00, 34478.68it/s]\n"
          ]
        },
        {
          "name": "stdout",
          "output_type": "stream",
          "text": [
            "Epoch 09, Loss: 0.2159, Approx. Train: 0.9459\n"
          ]
        },
        {
          "name": "stderr",
          "output_type": "stream",
          "text": [
            "Evaluating: 100%|██████████| 465930/465930 [00:23<00:00, 19710.68it/s]\n"
          ]
        },
        {
          "name": "stdout",
          "output_type": "stream",
          "text": [
            "Epoch: 09, Train: 0.9595, Val: 0.9588, Test: 0.9581\n"
          ]
        },
        {
          "name": "stderr",
          "output_type": "stream",
          "text": [
            "Epoch 10: 100%|██████████| 153431/153431 [00:04<00:00, 35437.64it/s]\n"
          ]
        },
        {
          "name": "stdout",
          "output_type": "stream",
          "text": [
            "Epoch 10, Loss: 0.2066, Approx. Train: 0.9477\n"
          ]
        },
        {
          "name": "stderr",
          "output_type": "stream",
          "text": [
            "Evaluating: 100%|██████████| 465930/465930 [00:29<00:00, 15793.56it/s]"
          ]
        },
        {
          "name": "stdout",
          "output_type": "stream",
          "text": [
            "Epoch: 10, Train: 0.9607, Val: 0.9597, Test: 0.9587\n"
          ]
        },
        {
          "name": "stderr",
          "output_type": "stream",
          "text": [
            "\n"
          ]
        }
      ],
      "source": [
        "sage_train_accs, sage_val_accs, sage_test_accs = [], [], []\n",
        "\n",
        "for epoch in range(1, 11):\n",
        "    loss, acc = train(epoch)\n",
        "    print(f'Epoch {epoch:02d}, Loss: {loss:.4f}, Approx. Train: {acc:.4f}')\n",
        "    train_acc, val_acc, test_acc = test()\n",
        "    print(f'Epoch: {epoch:02d}, Train: {train_acc:.4f}, Val: {val_acc:.4f}, '\n",
        "          f'Test: {test_acc:.4f}')\n",
        "\n",
        "    # store accuracy values for SAGE\n",
        "    sage_train_accs.append(train_acc)\n",
        "    sage_val_accs.append(val_acc)\n",
        "    sage_test_accs.append(test_acc)\n",
        "    \n",
        "    # delete intermediate tensors\n",
        "    del loss, acc, train_acc, val_acc, test_acc"
      ]
    },
    {
      "attachments": {},
      "cell_type": "markdown",
      "metadata": {},
      "source": [
        "## Graph Attention Network (GAT)"
      ]
    },
    {
      "cell_type": "code",
      "execution_count": 25,
      "metadata": {},
      "outputs": [],
      "source": [
        "class GAT(torch.nn.Module):\n",
        "    def __init__(self, in_channels, hidden_channels, out_channels):\n",
        "        super().__init__()\n",
        "        self.convs = torch.nn.ModuleList()\n",
        "        self.convs.append(GATConv(in_channels, hidden_channels, heads=8, dropout=0.2))\n",
        "        self.convs.append(GATConv(hidden_channels * 8, out_channels, heads=1, dropout=0.2))\n",
        "        self.activation = nn.LeakyReLU()\n",
        "\n",
        "    def forward(self, x, edge_index):\n",
        "        for i, conv in enumerate(self.convs):\n",
        "            x = conv(x, edge_index)\n",
        "            if i < len(self.convs) - 1:\n",
        "                x = self.activation(x)\n",
        "        return x\n",
        "\n",
        "    @torch.no_grad()\n",
        "    def inference(self, x_all, subgraph_loader):\n",
        "        pbar = tqdm(total=len(subgraph_loader.dataset) * len(self.convs))\n",
        "        pbar.set_description('Evaluating')\n",
        "\n",
        "        # Compute representations of nodes layer by layer, using *all*\n",
        "        # available edges. This leads to faster computation in contrast to\n",
        "        # immediately computing the final representations of each batch:\n",
        "        for i, conv in enumerate(self.convs):\n",
        "            xs = []\n",
        "            for batch in subgraph_loader:\n",
        "                x = x_all[batch.n_id.to(x_all.device)].to(device)\n",
        "                x = conv(x, batch.edge_index.to(device))\n",
        "                if i < len(self.convs) - 1:\n",
        "                    x = self.activation(x)\n",
        "                xs.append(x[:batch.batch_size].cpu())\n",
        "                pbar.update(batch.batch_size)\n",
        "            x_all = torch.cat(xs, dim=0)\n",
        "        pbar.close()\n",
        "        return x_all"
      ]
    },
    {
      "cell_type": "code",
      "execution_count": 26,
      "metadata": {},
      "outputs": [],
      "source": [
        "model = GAT(dataset.num_features, 128, dataset.num_classes).to(device)\n",
        "optimizer = torch.optim.Adam(model.parameters(), lr=0.0001)"
      ]
    },
    {
      "cell_type": "code",
      "execution_count": 27,
      "metadata": {},
      "outputs": [],
      "source": [
        "def train(epoch):\n",
        "    model.train()\n",
        "\n",
        "    pbar = tqdm(total=int(len(train_loader.dataset)))\n",
        "    pbar.set_description(f'Epoch {epoch:02d}')\n",
        "\n",
        "    total_loss = total_correct = total_examples = 0\n",
        "    for batch in train_loader:\n",
        "        optimizer.zero_grad()\n",
        "        y = batch.y[:batch.batch_size]\n",
        "        y_hat = model(batch.x, batch.edge_index.to(device))[:batch.batch_size]\n",
        "        loss = F.cross_entropy(y_hat, y)\n",
        "        loss.backward()\n",
        "        optimizer.step()\n",
        "\n",
        "        total_loss += float(loss) * batch.batch_size\n",
        "        total_correct += int((y_hat.argmax(dim=-1) == y).sum())\n",
        "        total_examples += batch.batch_size\n",
        "        pbar.update(batch.batch_size)\n",
        "    pbar.close()\n",
        "\n",
        "    return total_loss / total_examples, total_correct / total_examples"
      ]
    },
    {
      "cell_type": "code",
      "execution_count": 28,
      "metadata": {},
      "outputs": [],
      "source": [
        "@torch.no_grad()\n",
        "def test():\n",
        "    model.eval()\n",
        "    y_hat = model.inference(data.x, subgraph_loader).argmax(dim=-1)\n",
        "    y = data.y.to(y_hat.device)\n",
        "\n",
        "    accs = []\n",
        "    for mask in [data.train_mask, data.val_mask, data.test_mask]:\n",
        "        accs.append(int((y_hat[mask] == y[mask]).sum()) / int(mask.sum()))\n",
        "    return accs"
      ]
    },
    {
      "cell_type": "code",
      "execution_count": 29,
      "metadata": {},
      "outputs": [
        {
          "name": "stderr",
          "output_type": "stream",
          "text": [
            "Epoch 01: 100%|██████████| 153431/153431 [00:13<00:00, 11130.66it/s]\n"
          ]
        },
        {
          "name": "stdout",
          "output_type": "stream",
          "text": [
            "Epoch 01, Loss: 1.3526, Approx. Train: 0.7096\n"
          ]
        },
        {
          "name": "stderr",
          "output_type": "stream",
          "text": [
            "Evaluating: 100%|██████████| 465930/465930 [00:59<00:00, 7871.19it/s] \n"
          ]
        },
        {
          "name": "stdout",
          "output_type": "stream",
          "text": [
            "Epoch: 01, Train: 0.7631, Val: 0.7789, Test: 0.7846\n"
          ]
        },
        {
          "name": "stderr",
          "output_type": "stream",
          "text": [
            "Epoch 02: 100%|██████████| 153431/153431 [00:17<00:00, 8994.42it/s]\n"
          ]
        },
        {
          "name": "stdout",
          "output_type": "stream",
          "text": [
            "Epoch 02, Loss: 0.5967, Approx. Train: 0.8831\n"
          ]
        },
        {
          "name": "stderr",
          "output_type": "stream",
          "text": [
            "Evaluating: 100%|██████████| 465930/465930 [00:59<00:00, 7872.38it/s] \n"
          ]
        },
        {
          "name": "stdout",
          "output_type": "stream",
          "text": [
            "Epoch: 02, Train: 0.8272, Val: 0.8399, Test: 0.8440\n"
          ]
        },
        {
          "name": "stderr",
          "output_type": "stream",
          "text": [
            "Epoch 03: 100%|██████████| 153431/153431 [00:19<00:00, 7872.86it/s] \n"
          ]
        },
        {
          "name": "stdout",
          "output_type": "stream",
          "text": [
            "Epoch 03, Loss: 0.4745, Approx. Train: 0.9030\n"
          ]
        },
        {
          "name": "stderr",
          "output_type": "stream",
          "text": [
            "Evaluating: 100%|██████████| 465930/465930 [00:48<00:00, 9510.71it/s] \n"
          ]
        },
        {
          "name": "stdout",
          "output_type": "stream",
          "text": [
            "Epoch: 03, Train: 0.8556, Val: 0.8649, Test: 0.8686\n"
          ]
        },
        {
          "name": "stderr",
          "output_type": "stream",
          "text": [
            "Epoch 04: 100%|██████████| 153431/153431 [00:12<00:00, 12017.65it/s]\n"
          ]
        },
        {
          "name": "stdout",
          "output_type": "stream",
          "text": [
            "Epoch 04, Loss: 0.4210, Approx. Train: 0.9112\n"
          ]
        },
        {
          "name": "stderr",
          "output_type": "stream",
          "text": [
            "Evaluating: 100%|██████████| 465930/465930 [00:56<00:00, 8296.65it/s] \n"
          ]
        },
        {
          "name": "stdout",
          "output_type": "stream",
          "text": [
            "Epoch: 04, Train: 0.8670, Val: 0.8742, Test: 0.8763\n"
          ]
        },
        {
          "name": "stderr",
          "output_type": "stream",
          "text": [
            "Epoch 05: 100%|██████████| 153431/153431 [00:22<00:00, 6924.82it/s]\n"
          ]
        },
        {
          "name": "stdout",
          "output_type": "stream",
          "text": [
            "Epoch 05, Loss: 0.3934, Approx. Train: 0.9154\n"
          ]
        },
        {
          "name": "stderr",
          "output_type": "stream",
          "text": [
            "Evaluating: 100%|██████████| 465930/465930 [00:59<00:00, 7802.81it/s] \n"
          ]
        },
        {
          "name": "stdout",
          "output_type": "stream",
          "text": [
            "Epoch: 05, Train: 0.8892, Val: 0.8933, Test: 0.8967\n"
          ]
        },
        {
          "name": "stderr",
          "output_type": "stream",
          "text": [
            "Epoch 06: 100%|██████████| 153431/153431 [00:12<00:00, 12023.22it/s]\n"
          ]
        },
        {
          "name": "stdout",
          "output_type": "stream",
          "text": [
            "Epoch 06, Loss: 0.3703, Approx. Train: 0.9193\n"
          ]
        },
        {
          "name": "stderr",
          "output_type": "stream",
          "text": [
            "Evaluating: 100%|██████████| 465930/465930 [01:12<00:00, 6424.63it/s] \n"
          ]
        },
        {
          "name": "stdout",
          "output_type": "stream",
          "text": [
            "Epoch: 06, Train: 0.9042, Val: 0.9079, Test: 0.9105\n"
          ]
        },
        {
          "name": "stderr",
          "output_type": "stream",
          "text": [
            "Epoch 07: 100%|██████████| 153431/153431 [00:12<00:00, 11815.98it/s]\n"
          ]
        },
        {
          "name": "stdout",
          "output_type": "stream",
          "text": [
            "Epoch 07, Loss: 0.3558, Approx. Train: 0.9213\n"
          ]
        },
        {
          "name": "stderr",
          "output_type": "stream",
          "text": [
            "Evaluating: 100%|██████████| 465930/465930 [01:02<00:00, 7431.18it/s] \n"
          ]
        },
        {
          "name": "stdout",
          "output_type": "stream",
          "text": [
            "Epoch: 07, Train: 0.9104, Val: 0.9134, Test: 0.9158\n"
          ]
        },
        {
          "name": "stderr",
          "output_type": "stream",
          "text": [
            "Epoch 08: 100%|██████████| 153431/153431 [00:12<00:00, 11946.77it/s]\n"
          ]
        },
        {
          "name": "stdout",
          "output_type": "stream",
          "text": [
            "Epoch 08, Loss: 0.3453, Approx. Train: 0.9233\n"
          ]
        },
        {
          "name": "stderr",
          "output_type": "stream",
          "text": [
            "Evaluating: 100%|██████████| 465930/465930 [00:53<00:00, 8748.37it/s] \n"
          ]
        },
        {
          "name": "stdout",
          "output_type": "stream",
          "text": [
            "Epoch: 08, Train: 0.9153, Val: 0.9171, Test: 0.9201\n"
          ]
        },
        {
          "name": "stderr",
          "output_type": "stream",
          "text": [
            "Epoch 09: 100%|██████████| 153431/153431 [00:21<00:00, 6994.70it/s]\n"
          ]
        },
        {
          "name": "stdout",
          "output_type": "stream",
          "text": [
            "Epoch 09, Loss: 0.3339, Approx. Train: 0.9248\n"
          ]
        },
        {
          "name": "stderr",
          "output_type": "stream",
          "text": [
            "Evaluating: 100%|██████████| 465930/465930 [00:51<00:00, 8962.87it/s] \n"
          ]
        },
        {
          "name": "stdout",
          "output_type": "stream",
          "text": [
            "Epoch: 09, Train: 0.9210, Val: 0.9246, Test: 0.9269\n"
          ]
        },
        {
          "name": "stderr",
          "output_type": "stream",
          "text": [
            "Epoch 10: 100%|██████████| 153431/153431 [00:12<00:00, 11927.34it/s]\n"
          ]
        },
        {
          "name": "stdout",
          "output_type": "stream",
          "text": [
            "Epoch 10, Loss: 0.3278, Approx. Train: 0.9254\n"
          ]
        },
        {
          "name": "stderr",
          "output_type": "stream",
          "text": [
            "Evaluating: 100%|██████████| 465930/465930 [01:00<00:00, 7678.83it/s] "
          ]
        },
        {
          "name": "stdout",
          "output_type": "stream",
          "text": [
            "Epoch: 10, Train: 0.9287, Val: 0.9305, Test: 0.9328\n"
          ]
        },
        {
          "name": "stderr",
          "output_type": "stream",
          "text": [
            "\n"
          ]
        }
      ],
      "source": [
        "gat_train_accs, gat_val_accs, gat_test_accs = [], [], []\n",
        "\n",
        "for epoch in range(1, 11):\n",
        "    loss, acc = train(epoch)\n",
        "    print(f'Epoch {epoch:02d}, Loss: {loss:.4f}, Approx. Train: {acc:.4f}')\n",
        "    train_acc, val_acc, test_acc = test()\n",
        "    print(f'Epoch: {epoch:02d}, Train: {train_acc:.4f}, Val: {val_acc:.4f}, '\n",
        "          f'Test: {test_acc:.4f}')\n",
        "\n",
        "    # store accuracy values for GAT\n",
        "    gat_train_accs.append(train_acc)\n",
        "    gat_val_accs.append(val_acc)\n",
        "    gat_test_accs.append(test_acc)\n",
        "    \n",
        "    # delete intermediate tensors\n",
        "    del loss, acc, train_acc, val_acc, test_acc"
      ]
    },
    {
      "attachments": {},
      "cell_type": "markdown",
      "metadata": {},
      "source": [
        "## Accuracy Visualization"
      ]
    },
    {
      "cell_type": "code",
      "execution_count": 38,
      "metadata": {},
      "outputs": [
        {
          "data": {
            "image/png": "[encoded data removed]",
            "text/plain": [
              "<Figure size 1200x600 with 1 Axes>"
            ]
          },
          "metadata": {},
          "output_type": "display_data"
        }
      ],
      "source": [
        "# create a list of labels for each epoch\n",
        "epochs = range(1, 11)\n",
        "epoch_labels = [f\"Epoch {i}\" for i in epochs]\n",
        "\n",
        "# plot the comparison bar plot\n",
        "fig, ax = plt.subplots(figsize=(12, 6))\n",
        "bar_width = 0.35\n",
        "opacity = 0.8\n",
        "colors = ['#F66815', '#2267D9']\n",
        "\n",
        "# shift the x coordinates for the second model\n",
        "x = np.array(epochs)\n",
        "\n",
        "ax.bar(x, sage_test_accs, bar_width, alpha=opacity, color=colors[0], label=\"SAGE\")\n",
        "ax.bar(x + bar_width, gat_test_accs, bar_width, alpha=opacity, color=colors[1], label=\"GAT\")\n",
        "ax.set_ylim(bottom=0.75)\n",
        "\n",
        "ax.set_xlabel('Epochs')\n",
        "ax.set_ylabel('Test Accuracy')\n",
        "ax.set_xticks(np.array(epochs) + bar_width / 2)\n",
        "ax.set_xticklabels(epoch_labels)\n",
        "ax.legend()\n",
        "plt.tight_layout()\n",
        "plt.show()"
      ]
    },
    {
      "attachments": {},
      "cell_type": "markdown",
      "metadata": {
        "id": "2Ss4pd7FKA5L"
      },
      "source": [
        "# Data Collection"
      ]
    },
    {
      "cell_type": "code",
      "execution_count": 31,
      "metadata": {},
      "outputs": [],
      "source": [
        "from dotenv import load_dotenv"
      ]
    },
    {
      "cell_type": "code",
      "execution_count": 32,
      "metadata": {
        "id": "4a-y717qSKkL"
      },
      "outputs": [],
      "source": [
        "load_dotenv()\n",
        "\n",
        "reddit_client_id = os.getenv('reddit_client_id')\n",
        "reddit_client_secret = os.getenv('reddit_client_secret')\n",
        "reddit_user_agent = os.getenv('reddit_user_agent')"
      ]
    },
    {
      "cell_type": "markdown",
      "metadata": {
        "id": "2Q_A_BK8wEmB"
      },
      "source": [
        "Data Extraction Code Reference from: https://colab.research.google.com/drive/15883QxK-f3Extq4dHRdqz1RdbgObzS_l?usp=sharing"
      ]
    },
    {
      "cell_type": "code",
      "execution_count": 33,
      "metadata": {
        "id": "IlvFnBFHs_8l"
      },
      "outputs": [],
      "source": [
        "#===========================================================================\n",
        "# helper functions\n",
        "#===========================================================================\n",
        "\n",
        "#---------------------------------------------------------------------------\n",
        "# get all new posts from a specific subreddit as a dataframe\n",
        "def getNewPostsAsDF(r, subredditName, postLimit=10):\n",
        "  df = pd.DataFrame()   \n",
        "  subreddit = r.subreddit(subredditName) \n",
        "  for submission in subreddit.new(limit=postLimit):\n",
        "    df = df.append({'subreddit': subredditName,\n",
        "                  'post_id': submission.id,\n",
        "                  'created': datetime.utcfromtimestamp(submission.created_utc).strftime('%Y-%m-%d %H:%M:%S'),\n",
        "                  'raw_title': submission.title,\n",
        "                  'author': submission.author,\n",
        "                  'karma': round(submission.score),\n",
        "                  'awards': round(submission.total_awards_received),\n",
        "                  'permalink': submission.permalink},\n",
        "                 ignore_index = True)\n",
        "  df['created'] = pd.to_datetime(df['created'], format='%Y-%m-%d %H:%M:%S')     \n",
        "  return(df)\n",
        "\n",
        "\n",
        "#---------------------------------------------------------------------------\n",
        "# get all comments from a specific post as a dataframe\n",
        "def getAllCommentsAsDF(r, submissionId):\n",
        "  df = pd.DataFrame()   \n",
        "  res = getAllComments(r, submissionId)\n",
        "  for item in res:\n",
        "      if type(item) == praw.models.reddit.comment.Comment:\n",
        "          parent_id_clean = item.parent_id.replace(\"t1_\",\"\").replace(\"t3_\",\"\")\n",
        "          if parent_id_clean==submissionId:\n",
        "            parent_id_clean = ''\n",
        "          df = df.append({'post_id':submissionId,\n",
        "                          'comment_id': item.id,\n",
        "                          'comment_parent_id': parent_id_clean,\n",
        "                          'author': item.author,\n",
        "                          'raw_comment': item.body,\n",
        "                          'karma': round(item.score),\n",
        "                          'awards': round(item.total_awards_received)},  \n",
        "                  ignore_index = True)\n",
        "  return(df)   \n",
        "\n",
        "#---------------------------------------------------------------------------\n",
        "# get all comments on this submission as praw objects in a list\n",
        "# requires a submissionId, the id of the reddit post\n",
        "def getAllComments(r, submissionId, verbose=True):\n",
        "  submission = r.submission(submissionId)\n",
        "  comments = submission.comments\n",
        "  commentsList = []\n",
        "  for comment in comments:\n",
        "    getSubComments(comment, commentsList, verbose=verbose)\n",
        "  return commentsList\n",
        "\n",
        "#---------------------------------------------------------------------------\n",
        "# recursive function to get nexted comments that replied to other comments\n",
        "def getSubComments(comment, allComments, verbose=True):\n",
        "  allComments.append(comment)\n",
        "  if not hasattr(comment, \"replies\"):\n",
        "    replies = comment.comments()\n",
        "    if verbose: print(\"fetching (\" + str(len(allComments)) + \" comments fetched total)\")\n",
        "  else:\n",
        "    replies = comment.replies\n",
        "  for child in replies:\n",
        "    getSubComments(child, allComments, verbose=verbose) "
      ]
    },
    {
      "cell_type": "code",
      "execution_count": 34,
      "metadata": {
        "id": "r2056NKYxu9V"
      },
      "outputs": [],
      "source": [
        "# create a reddit instance using the API key\n",
        "reddit = praw.Reddit(client_id=reddit_client_id,\n",
        "                     client_secret=reddit_client_secret,\n",
        "                     user_agent=reddit_user_agent)"
      ]
    },
    {
      "cell_type": "code",
      "execution_count": 35,
      "metadata": {
        "colab": {
          "base_uri": "https://localhost:8080/"
        },
        "id": "kTl_uSlCtVnO",
        "outputId": "f0668fa5-cd83-411c-ad61-0067707d499e"
      },
      "outputs": [],
      "source": [
        "#===========================================================================\n",
        "# get the latest 500 hot posts from /r/UCLA\n",
        "latest_posts = getNewPostsAsDF(reddit, \"UCLA\", 500)\n",
        "\n",
        "# save as local CSV \n",
        "# latest_posts.to_csv('reddit_posts_UCLA.csv') \n",
        "# files.download('reddit_posts_UCLA.csv')"
      ]
    },
    {
      "cell_type": "code",
      "execution_count": 36,
      "metadata": {
        "colab": {
          "base_uri": "https://localhost:8080/"
        },
        "id": "tBKyzUP0tv9b",
        "outputId": "080894e6-93ba-46fa-e68c-7bb7778c35b1"
      },
      "outputs": [
        {
          "data": {
            "text/html": [
              "<div>\n",
              "<style scoped>\n",
              "    .dataframe tbody tr th:only-of-type {\n",
              "        vertical-align: middle;\n",
              "    }\n",
              "\n",
              "    .dataframe tbody tr th {\n",
              "        vertical-align: top;\n",
              "    }\n",
              "\n",
              "    .dataframe thead th {\n",
              "        text-align: right;\n",
              "    }\n",
              "</style>\n",
              "<table border=\"1\" class=\"dataframe\">\n",
              "  <thead>\n",
              "    <tr style=\"text-align: right;\">\n",
              "      <th></th>\n",
              "      <th>subreddit</th>\n",
              "      <th>post_id</th>\n",
              "      <th>created</th>\n",
              "      <th>raw_title</th>\n",
              "      <th>author</th>\n",
              "      <th>karma</th>\n",
              "      <th>awards</th>\n",
              "      <th>permalink</th>\n",
              "    </tr>\n",
              "  </thead>\n",
              "  <tbody>\n",
              "    <tr>\n",
              "      <th>0</th>\n",
              "      <td>UCLA</td>\n",
              "      <td>11ptbrv</td>\n",
              "      <td>2023-03-12 23:22:56</td>\n",
              "      <td>Neuroscience Upper Div Syllabus</td>\n",
              "      <td>Intrepid_Birthday651</td>\n",
              "      <td>1</td>\n",
              "      <td>0</td>\n",
              "      <td>/r/ucla/comments/11ptbrv/neuroscience_upper_di...</td>\n",
              "    </tr>\n",
              "    <tr>\n",
              "      <th>1</th>\n",
              "      <td>UCLA</td>\n",
              "      <td>11ptbl9</td>\n",
              "      <td>2023-03-12 23:22:43</td>\n",
              "      <td>NCAA tickets</td>\n",
              "      <td>Slyther1208</td>\n",
              "      <td>1</td>\n",
              "      <td>0</td>\n",
              "      <td>/r/ucla/comments/11ptbl9/ncaa_tickets/</td>\n",
              "    </tr>\n",
              "    <tr>\n",
              "      <th>2</th>\n",
              "      <td>UCLA</td>\n",
              "      <td>11psc5o</td>\n",
              "      <td>2023-03-12 22:43:22</td>\n",
              "      <td>Isn’t a swipe worth around $10? This sounds cr...</td>\n",
              "      <td>EitherNoise9180</td>\n",
              "      <td>2</td>\n",
              "      <td>0</td>\n",
              "      <td>/r/ucla/comments/11psc5o/isnt_a_swipe_worth_ar...</td>\n",
              "    </tr>\n",
              "    <tr>\n",
              "      <th>3</th>\n",
              "      <td>UCLA</td>\n",
              "      <td>11psan9</td>\n",
              "      <td>2023-03-12 22:41:41</td>\n",
              "      <td>whoa😩</td>\n",
              "      <td>tiredfml</td>\n",
              "      <td>2</td>\n",
              "      <td>0</td>\n",
              "      <td>/r/ucla/comments/11psan9/whoa/</td>\n",
              "    </tr>\n",
              "    <tr>\n",
              "      <th>4</th>\n",
              "      <td>UCLA</td>\n",
              "      <td>11prp3k</td>\n",
              "      <td>2023-03-12 22:17:56</td>\n",
              "      <td>Using someone else’s bruincard in dining halls</td>\n",
              "      <td>Every-Ad7132</td>\n",
              "      <td>1</td>\n",
              "      <td>0</td>\n",
              "      <td>/r/ucla/comments/11prp3k/using_someone_elses_b...</td>\n",
              "    </tr>\n",
              "    <tr>\n",
              "      <th>...</th>\n",
              "      <td>...</td>\n",
              "      <td>...</td>\n",
              "      <td>...</td>\n",
              "      <td>...</td>\n",
              "      <td>...</td>\n",
              "      <td>...</td>\n",
              "      <td>...</td>\n",
              "      <td>...</td>\n",
              "    </tr>\n",
              "    <tr>\n",
              "      <th>495</th>\n",
              "      <td>UCLA</td>\n",
              "      <td>11l8d1r</td>\n",
              "      <td>2023-03-07 19:16:08</td>\n",
              "      <td>is RSU down??</td>\n",
              "      <td>Ok_Garbage955</td>\n",
              "      <td>3</td>\n",
              "      <td>0</td>\n",
              "      <td>/r/ucla/comments/11l8d1r/is_rsu_down/</td>\n",
              "    </tr>\n",
              "    <tr>\n",
              "      <th>496</th>\n",
              "      <td>UCLA</td>\n",
              "      <td>11l7qcv</td>\n",
              "      <td>2023-03-07 18:52:47</td>\n",
              "      <td>Hitch Suite Looking to Swap for a University A...</td>\n",
              "      <td>jamjamtheyam</td>\n",
              "      <td>2</td>\n",
              "      <td>0</td>\n",
              "      <td>/r/ucla/comments/11l7qcv/hitch_suite_looking_t...</td>\n",
              "    </tr>\n",
              "    <tr>\n",
              "      <th>497</th>\n",
              "      <td>UCLA</td>\n",
              "      <td>11l7mmz</td>\n",
              "      <td>2023-03-07 18:48:49</td>\n",
              "      <td>6 hour clicc equipment</td>\n",
              "      <td>ShinkaiSparkle</td>\n",
              "      <td>1</td>\n",
              "      <td>0</td>\n",
              "      <td>/r/ucla/comments/11l7mmz/6_hour_clicc_equipment/</td>\n",
              "    </tr>\n",
              "    <tr>\n",
              "      <th>498</th>\n",
              "      <td>UCLA</td>\n",
              "      <td>11l7faf</td>\n",
              "      <td>2023-03-07 18:41:06</td>\n",
              "      <td>Emails for letters of rec</td>\n",
              "      <td>sss10215</td>\n",
              "      <td>8</td>\n",
              "      <td>0</td>\n",
              "      <td>/r/ucla/comments/11l7faf/emails_for_letters_of...</td>\n",
              "    </tr>\n",
              "    <tr>\n",
              "      <th>499</th>\n",
              "      <td>UCLA</td>\n",
              "      <td>11l7czz</td>\n",
              "      <td>2023-03-07 18:38:45</td>\n",
              "      <td>flixbus from DTLA on march 25 at 7:30 am</td>\n",
              "      <td>golden_snitch1202</td>\n",
              "      <td>1</td>\n",
              "      <td>0</td>\n",
              "      <td>/r/ucla/comments/11l7czz/flixbus_from_dtla_on_...</td>\n",
              "    </tr>\n",
              "  </tbody>\n",
              "</table>\n",
              "<p>500 rows × 8 columns</p>\n",
              "</div>"
            ],
            "text/plain": [
              "    subreddit  post_id             created  \\\n",
              "0        UCLA  11ptbrv 2023-03-12 23:22:56   \n",
              "1        UCLA  11ptbl9 2023-03-12 23:22:43   \n",
              "2        UCLA  11psc5o 2023-03-12 22:43:22   \n",
              "3        UCLA  11psan9 2023-03-12 22:41:41   \n",
              "4        UCLA  11prp3k 2023-03-12 22:17:56   \n",
              "..        ...      ...                 ...   \n",
              "495      UCLA  11l8d1r 2023-03-07 19:16:08   \n",
              "496      UCLA  11l7qcv 2023-03-07 18:52:47   \n",
              "497      UCLA  11l7mmz 2023-03-07 18:48:49   \n",
              "498      UCLA  11l7faf 2023-03-07 18:41:06   \n",
              "499      UCLA  11l7czz 2023-03-07 18:38:45   \n",
              "\n",
              "                                             raw_title                author  \\\n",
              "0                      Neuroscience Upper Div Syllabus  Intrepid_Birthday651   \n",
              "1                                         NCAA tickets           Slyther1208   \n",
              "2    Isn’t a swipe worth around $10? This sounds cr...       EitherNoise9180   \n",
              "3                                                whoa😩              tiredfml   \n",
              "4       Using someone else’s bruincard in dining halls          Every-Ad7132   \n",
              "..                                                 ...                   ...   \n",
              "495                                      is RSU down??         Ok_Garbage955   \n",
              "496  Hitch Suite Looking to Swap for a University A...          jamjamtheyam   \n",
              "497                             6 hour clicc equipment        ShinkaiSparkle   \n",
              "498                          Emails for letters of rec              sss10215   \n",
              "499           flixbus from DTLA on march 25 at 7:30 am     golden_snitch1202   \n",
              "\n",
              "     karma  awards                                          permalink  \n",
              "0        1       0  /r/ucla/comments/11ptbrv/neuroscience_upper_di...  \n",
              "1        1       0             /r/ucla/comments/11ptbl9/ncaa_tickets/  \n",
              "2        2       0  /r/ucla/comments/11psc5o/isnt_a_swipe_worth_ar...  \n",
              "3        2       0                     /r/ucla/comments/11psan9/whoa/  \n",
              "4        1       0  /r/ucla/comments/11prp3k/using_someone_elses_b...  \n",
              "..     ...     ...                                                ...  \n",
              "495      3       0              /r/ucla/comments/11l8d1r/is_rsu_down/  \n",
              "496      2       0  /r/ucla/comments/11l7qcv/hitch_suite_looking_t...  \n",
              "497      1       0   /r/ucla/comments/11l7mmz/6_hour_clicc_equipment/  \n",
              "498      8       0  /r/ucla/comments/11l7faf/emails_for_letters_of...  \n",
              "499      1       0  /r/ucla/comments/11l7czz/flixbus_from_dtla_on_...  \n",
              "\n",
              "[500 rows x 8 columns]"
            ]
          },
          "execution_count": 36,
          "metadata": {},
          "output_type": "execute_result"
        }
      ],
      "source": [
        "latest_posts"
      ]
    }
  ],
  "metadata": {
    "accelerator": "GPU",
    "colab": {
      "provenance": []
    },
    "gpuClass": "standard",
    "kernelspec": {
      "display_name": "Python 3",
      "name": "python3"
    },
    "language_info": {
      "codemirror_mode": {
        "name": "ipython",
        "version": 3
      },
      "file_extension": ".py",
      "mimetype": "text/x-python",
      "name": "python",
      "nbconvert_exporter": "python",
      "pygments_lexer": "ipython3",
      "version": "3.10.9"
    }
  },
  "nbformat": 4,
  "nbformat_minor": 0
}
